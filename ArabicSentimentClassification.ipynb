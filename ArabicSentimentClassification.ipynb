{
  "nbformat": 4,
  "nbformat_minor": 0,
  "metadata": {
    "colab": {
      "name": "ArabicSentimentClassification.ipynb",
      "provenance": [],
      "collapsed_sections": [],
      "authorship_tag": "ABX9TyMMks8rJfutQMDdall/svRx"
    },
    "kernelspec": {
      "name": "python3",
      "display_name": "Python 3"
    }
  },
  "cells": [
    {
      "cell_type": "code",
      "metadata": {
        "id": "r_jD-oaf7L0i"
      },
      "source": [
        "import os\r\n",
        "import sys\r\n",
        "import numpy as np\r\n",
        "import pandas as pd\r\n",
        "import matplotlib.pyplot as plt\r\n",
        "%matplotlib inline\r\n",
        "import tensorflow as tf\r\n",
        "from tensorflow.keras.utils import to_categorical\r\n",
        "from tensorflow.keras.preprocessing.text import Tokenizer\r\n",
        "from tensorflow.keras.preprocessing.sequence import pad_sequences\r\n",
        "from tensorflow.keras.models import Sequential\r\n",
        "from tensorflow.keras.layers import Dense, Conv1D, Embedding, MaxPooling1D, GlobalMaxPooling1D, LSTM, Dropout,SimpleRNN,Bidirectional,Attention\r\n",
        "from tensorflow.keras.callbacks import EarlyStopping\r\n",
        "from sklearn.metrics import classification_report\r\n",
        "from sklearn.model_selection import train_test_split\r\n",
        "import re"
      ],
      "execution_count": null,
      "outputs": []
    },
    {
      "cell_type": "code",
      "metadata": {
        "id": "REeGQMfN7R8I"
      },
      "source": [
        "MAX_SEQUENCE_LENGTH = 300\r\n",
        "MAX_VOCAB_SIZE = 20000\r\n",
        "EMBEDDING_DIM = 200"
      ],
      "execution_count": null,
      "outputs": []
    },
    {
      "cell_type": "code",
      "metadata": {
        "id": "NuKTH4Y07UC-"
      },
      "source": [
        "df = pd.read_csv('/content/drive/MyDrive/AraSenCorpus/Balanced/tweets.txt', names=['Class','Text'], sep='\\t')\r\n",
        "df\r\n",
        "df.groupby('Class').count()\r\n",
        "#, skiprows=1"
      ],
      "execution_count": null,
      "outputs": []
    },
    {
      "cell_type": "code",
      "metadata": {
        "id": "Z03IrjWb7avu"
      },
      "source": [
        "sentences = df['Text'].values.astype(str)\r\n",
        "target = df['Class'].map({'Neutral':0,'Positive':1,'Negative':2}).values"
      ],
      "execution_count": null,
      "outputs": []
    },
    {
      "cell_type": "code",
      "metadata": {
        "id": "kc4FxXPq7ixH"
      },
      "source": [
        "target_cat = to_categorical(target, num_classes=3)"
      ],
      "execution_count": null,
      "outputs": []
    },
    {
      "cell_type": "code",
      "metadata": {
        "id": "bxc7IeQx7lPo"
      },
      "source": [
        "tokenizer = Tokenizer(num_words=MAX_VOCAB_SIZE)\r\n",
        "tokenizer.fit_on_texts(sentences)\r\n",
        "sequences = tokenizer.texts_to_sequences(sentences)\r\n",
        "word2idx = tokenizer.word_index #dictionary of all unique words in our document"
      ],
      "execution_count": null,
      "outputs": []
    },
    {
      "cell_type": "code",
      "metadata": {
        "id": "dJAbn_9S7pmO"
      },
      "source": [
        "data = pad_sequences(sequences,maxlen=MAX_SEQUENCE_LENGTH)\r\n",
        "num_words = min(MAX_VOCAB_SIZE,len(word2idx)+1)\r\n",
        "print(MAX_SEQUENCE_LENGTH)\r\n",
        "print(num_words)"
      ],
      "execution_count": null,
      "outputs": []
    },
    {
      "cell_type": "code",
      "metadata": {
        "id": "0lLJz24D7rY3"
      },
      "source": [
        "X_train, X_test, y_train, y_test = train_test_split(data,target_cat,test_size=0.2, shuffle=True, random_state=98,stratify=target_cat)"
      ],
      "execution_count": null,
      "outputs": []
    },
    {
      "cell_type": "code",
      "metadata": {
        "id": "1bFUPPDD7t73"
      },
      "source": [
        "#LSTM\r\n",
        "model2 = Sequential()"
      ],
      "execution_count": null,
      "outputs": []
    },
    {
      "cell_type": "code",
      "metadata": {
        "id": "QvRV2Ko77vve"
      },
      "source": [
        "model2.add(Embedding(num_words,EMBEDDING_DIM,input_length=MAX_SEQUENCE_LENGTH,trainable=True,input_shape=(MAX_SEQUENCE_LENGTH,)))\r\n",
        "model2.add(LSTM(1024,return_sequences=True))\r\n",
        "model2.add(GlobalMaxPooling1D())\r\n",
        "model2.add(Dense(6,activation='softmax'))\r\n",
        "model2.compile(optimizer='adam',loss='categorical_crossentropy',metrics=['accuracy'])"
      ],
      "execution_count": null,
      "outputs": []
    },
    {
      "cell_type": "code",
      "metadata": {
        "id": "lUbQ4fb-7xt_"
      },
      "source": [
        "early_stop = EarlyStopping(monitor='val_loss',patience=3,mode='min')\r\n",
        "model2.fit(X_train,y_train,batch_size=128,epochs=1,validation_data=(X_test,y_test),callbacks=[early_stop])"
      ],
      "execution_count": null,
      "outputs": []
    },
    {
      "cell_type": "code",
      "metadata": {
        "id": "A-Agqsg670Af"
      },
      "source": [
        "pred2 = model2.predict_classes(X_test)"
      ],
      "execution_count": null,
      "outputs": []
    },
    {
      "cell_type": "code",
      "metadata": {
        "id": "BrfcEfoH72If"
      },
      "source": [
        "def original_values(num):\r\n",
        "    if num==0:\r\n",
        "        return 'Neutral'\r\n",
        "    elif num==1:\r\n",
        "        return 'Positive'\r\n",
        "    elif num==2:\r\n",
        "        return 'Negative'   "
      ],
      "execution_count": null,
      "outputs": []
    },
    {
      "cell_type": "code",
      "metadata": {
        "id": "EsViSRkW7-nH"
      },
      "source": [
        "#convert 0,1,2 back to original form \r\n",
        "pred = np.array([original_values(num) for num in pred2])\r\n",
        "y_test = np.argmax(y_test,axis=-1)\r\n",
        "y_true = np.array([original_values(num) for num in y_test])\r\n",
        "print(classification_report(y_true,pred))"
      ],
      "execution_count": null,
      "outputs": []
    },
    {
      "cell_type": "code",
      "metadata": {
        "id": "jftvmwUc8BAW"
      },
      "source": [
        ""
      ],
      "execution_count": null,
      "outputs": []
    }
  ]
}